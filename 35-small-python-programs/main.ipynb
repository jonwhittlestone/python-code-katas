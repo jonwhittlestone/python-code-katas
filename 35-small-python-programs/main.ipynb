{
 "cells": [
  {
   "cell_type": "markdown",
   "metadata": {},
   "source": [
    "35 Competitive Python Programming Questions\n",
    "\n",
    "Source:\n",
    "\n",
    "[https://ninza7.medium.com/35-small-python-programs-for-beginners-to-practice-3128155fb815](https://ninza7.medium.com/35-small-python-programs-for-beginners-to-practice-3128155fb815)"
   ]
  },
  {
   "cell_type": "markdown",
   "metadata": {},
   "source": [
    "## 01 Find maximum length string with `for` loop\n",
    "\n"
   ]
  },
  {
   "cell_type": "code",
   "execution_count": 3,
   "metadata": {},
   "outputs": [
    {
     "name": "stdout",
     "output_type": "stream",
     "text": [
      "The longest word is Whittlestone, at 13 characters.\n"
     ]
    }
   ],
   "source": [
    "example = 'Hello, my name is Jon Whittlestone, and I am the owner of howapped.ltd - a software consultancy in Surrey, UK'\n",
    "\n",
    "max_len = -1\n",
    "\n",
    "for w in example.split(' '):\n",
    "    if len(w) > max_len:\n",
    "        max_len = len(w)\n",
    "        response = w\n",
    "print(f\"The longest word is {response} at {max_len} characters.\")\n"
   ]
  },
  {
   "cell_type": "markdown",
   "metadata": {},
   "source": [
    "## 02 Print Fibonacci Series in Python Using For Loop"
   ]
  },
  {
   "cell_type": "code",
   "execution_count": 11,
   "metadata": {},
   "outputs": [
    {
     "name": "stdout",
     "output_type": "stream",
     "text": [
      "0 \n",
      "1 \n",
      "1 \n",
      "2 \n",
      "3 \n",
      "5 \n",
      "8 \n",
      "13 \n",
      "21 \n",
      "34 \n"
     ]
    }
   ],
   "source": [
    "def number(n):\n",
    "    a = 0\n",
    "    b = 1\n",
    "    sum = 0\n",
    "    for count in range(1,n+1):\n",
    "        print(sum, end = ' ')\n",
    "        # incrementer\n",
    "        count +=1\n",
    "        # for next iteration\n",
    "        # set first value to the second value\n",
    "        a=b\n",
    "        # for next iteration\n",
    "        # set the second value to the sum\n",
    "        b=sum\n",
    "        # new calculation, to be\n",
    "        # printed in next iteration\n",
    "        sum = a+b\n",
    "        print()\n",
    "\n",
    "number(10)"
   ]
  }
 ],
 "metadata": {
  "interpreter": {
   "hash": "9c53dfeec1e1200103c9611e79193be8ba69b1522095f20141dba9bd004f4539"
  },
  "kernelspec": {
   "display_name": "Python 3.9.9 64-bit ('.venv': poetry)",
   "language": "python",
   "name": "python3"
  },
  "language_info": {
   "codemirror_mode": {
    "name": "ipython",
    "version": 3
   },
   "file_extension": ".py",
   "mimetype": "text/x-python",
   "name": "python",
   "nbconvert_exporter": "python",
   "pygments_lexer": "ipython3",
   "version": "3.9.9"
  },
  "orig_nbformat": 4
 },
 "nbformat": 4,
 "nbformat_minor": 2
}
