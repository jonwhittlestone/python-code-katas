{
 "cells": [
  {
   "cell_type": "markdown",
   "metadata": {},
   "source": [
    "35 Competitive Python Programming Questions\n",
    "\n",
    "Source:\n",
    "\n",
    "[https://ninza7.medium.com/35-small-python-programs-for-beginners-to-practice-3128155fb815](https://ninza7.medium.com/35-small-python-programs-for-beginners-to-practice-3128155fb815)"
   ]
  },
  {
   "cell_type": "markdown",
   "metadata": {},
   "source": [
    "## 01 Find maximum length string with `for` loop\n",
    "\n"
   ]
  },
  {
   "cell_type": "code",
   "execution_count": 3,
   "metadata": {},
   "outputs": [
    {
     "name": "stdout",
     "output_type": "stream",
     "text": [
      "The longest word is Whittlestone, at 13 characters.\n"
     ]
    }
   ],
   "source": [
    "example = 'Hello, my name is Jon Whittlestone, and I am the owner of howapped.ltd - a software consultancy in Surrey, UK'\n",
    "\n",
    "max_len = -1\n",
    "\n",
    "for w in example.split(' '):\n",
    "    if len(w) > max_len:\n",
    "        max_len = len(w)\n",
    "        response = w\n",
    "print(f\"The longest word is {response} at {max_len} characters.\")\n"
   ]
  },
  {
   "cell_type": "markdown",
   "metadata": {},
   "source": [
    "## 02 Print Fibonacci Series in Python Using For Loop"
   ]
  },
  {
   "cell_type": "code",
   "execution_count": 11,
   "metadata": {},
   "outputs": [
    {
     "name": "stdout",
     "output_type": "stream",
     "text": [
      "0 \n",
      "1 \n",
      "1 \n",
      "2 \n",
      "3 \n",
      "5 \n",
      "8 \n",
      "13 \n",
      "21 \n",
      "34 \n"
     ]
    }
   ],
   "source": [
    "def number(n):\n",
    "    a = 0\n",
    "    b = 1\n",
    "    sum = 0\n",
    "    for count in range(1,n+1):\n",
    "        print(sum, end = ' ')\n",
    "        # incrementer\n",
    "        count +=1\n",
    "        # for next iteration\n",
    "        # set first value to the second value\n",
    "        a=b\n",
    "        # for next iteration\n",
    "        # set the second value to the sum\n",
    "        b=sum\n",
    "        # new calculation, to be\n",
    "        # printed in next iteration\n",
    "        sum = a+b\n",
    "        print()\n",
    "\n",
    "number(10)"
   ]
  },
  {
   "cell_type": "markdown",
   "metadata": {},
   "source": [
    "## 03 Python Sand Glass program"
   ]
  },
  {
   "cell_type": "code",
   "execution_count": 17,
   "metadata": {},
   "outputs": [
    {
     "name": "stdout",
     "output_type": "stream",
     "text": [
      "*******************\n",
      " *****************\n",
      "  ***************\n",
      "   *************\n",
      "    ***********\n",
      "     *********\n",
      "      *******\n",
      "       *****\n",
      "        ***\n",
      "         *\n",
      "        ***\n",
      "       *****\n",
      "      *******\n",
      "     *********\n",
      "    ***********\n",
      "   *************\n",
      "  ***************\n",
      " *****************\n",
      "*******************\n"
     ]
    }
   ],
   "source": [
    "def glass(rows):\n",
    "    spaces = 0\n",
    "    stars2 = 3\n",
    "    spaces2 = rows - 2\n",
    "    stars = 2 * rows - 1\n",
    "    for i in range(1, rows + 1):\n",
    "        print(\" \" * spaces + \"*\" * stars)\n",
    "        stars -= 2\n",
    "        spaces += 1\n",
    "    for i in range(1, rows):\n",
    "        print(\" \" * spaces2 + \"*\" * stars2)\n",
    "        stars2 += 2\n",
    "        spaces2 -= 1\n",
    "\n",
    "\n",
    "glass(10)\n"
   ]
  },
  {
   "cell_type": "markdown",
   "metadata": {},
   "source": [
    "## 04 Print number in reverse order - `while` loop"
   ]
  },
  {
   "cell_type": "code",
   "execution_count": 22,
   "metadata": {},
   "outputs": [
    {
     "name": "stdout",
     "output_type": "stream",
     "text": [
      "10 9 8 7 6 5 4 3 2 1 "
     ]
    }
   ],
   "source": [
    "def countdown(n = 10):\n",
    "    while n > 0:\n",
    "        print(n, end=' ')\n",
    "        n -= 1\n",
    "\n",
    "countdown(10)"
   ]
  },
  {
   "cell_type": "markdown",
   "metadata": {},
   "source": [
    "05 Horizontal star pattern"
   ]
  },
  {
   "cell_type": "code",
   "execution_count": 33,
   "metadata": {},
   "outputs": [
    {
     "name": "stdout",
     "output_type": "stream",
     "text": [
      "*\n",
      "**\n",
      "***\n",
      "****\n",
      "*****\n",
      "******\n",
      "*******\n",
      "********\n",
      "*********\n",
      "**********\n",
      "*********\n",
      "********\n",
      "*******\n",
      "******\n",
      "*****\n",
      "****\n",
      "***\n",
      "**\n",
      "*\n"
     ]
    }
   ],
   "source": [
    "def star(limit):\n",
    "    asc = limit\n",
    "    for i in range(1,asc):\n",
    "        print('*' * i)\n",
    "    # print('done')\n",
    "    for i in range(limit,0, -1):\n",
    "        print('*' * i)\n",
    "star(10)"
   ]
  },
  {
   "cell_type": "markdown",
   "metadata": {},
   "source": [
    "## Mirror Number Pyramid\n",
    "\n",
    "To output:\n",
    "```\n",
    "                1 \n",
    "              2 1 2 \n",
    "            3 2 1 2 3 \n",
    "          4 3 2 1 2 3 4 \n",
    "        5 4 3 2 1 2 3 4 5 \n",
    "      6 5 4 3 2 1 2 3 4 5 6 \n",
    "    7 6 5 4 3 2 1 2 3 4 5 6 7 \n",
    "  8 7 6 5 4 3 2 1 2 3 4 5 6 7 8 \n",
    "9 8 7 6 5 4 3 2 1 2 3 4 5 6 7 8 9 \n",
    "```"
   ]
  },
  {
   "cell_type": "code",
   "execution_count": 16,
   "metadata": {},
   "outputs": [
    {
     "name": "stdout",
     "output_type": "stream",
     "text": [
      "                  \n",
      "                1 \n",
      "              2 1 2 \n",
      "            3 2 1 2 3 \n",
      "          4 3 2 1 2 3 4 \n",
      "        5 4 3 2 1 2 3 4 5 \n",
      "      6 5 4 3 2 1 2 3 4 5 6 \n",
      "    7 6 5 4 3 2 1 2 3 4 5 6 7 \n",
      "  8 7 6 5 4 3 2 1 2 3 4 5 6 7 8 \n",
      "9 8 7 6 5 4 3 2 1 2 3 4 5 6 7 8 9 \n"
     ]
    }
   ],
   "source": [
    "def triangle(n):\n",
    "    \"\"\"Prints Pyramid of descending mirror numbers.\n",
    "\n",
    "        The `char` and `end_char` numbers within each loop\n",
    "        are for debugging purposes/readability.\n",
    "\n",
    "        Parameters:              \n",
    "            n (int) : number of rows / number to count down from             \n",
    "        Prints: \n",
    "            Pyramid of descending mirror numbers\n",
    "    \"\"\"\n",
    "    for i in range(n):\n",
    "        for j in range(n-i-1):\n",
    "            char = ' '\n",
    "            end_char = ' '\n",
    "            print(char,end=end_char)\n",
    "        for k in range(i,1,-1):\n",
    "            char = k\n",
    "            end_char = ' '\n",
    "            print(char, end=end_char)\n",
    "        for l in range(1, i+1):\n",
    "            # end_char = l\n",
    "            char = l\n",
    "            end_char = ' '\n",
    "            print(char, end=end_char)\n",
    "        print('')\n",
    "triangle(10)"
   ]
  }
 ],
 "metadata": {
  "interpreter": {
   "hash": "9c53dfeec1e1200103c9611e79193be8ba69b1522095f20141dba9bd004f4539"
  },
  "kernelspec": {
   "display_name": "Python 3.9.9 64-bit ('.venv': poetry)",
   "language": "python",
   "name": "python3"
  },
  "language_info": {
   "codemirror_mode": {
    "name": "ipython",
    "version": 3
   },
   "file_extension": ".py",
   "mimetype": "text/x-python",
   "name": "python",
   "nbconvert_exporter": "python",
   "pygments_lexer": "ipython3",
   "version": "3.9.9"
  },
  "orig_nbformat": 4
 },
 "nbformat": 4,
 "nbformat_minor": 2
}
