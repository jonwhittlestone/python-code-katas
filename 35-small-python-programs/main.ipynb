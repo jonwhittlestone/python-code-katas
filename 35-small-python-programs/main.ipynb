{
 "cells": [
  {
   "cell_type": "markdown",
   "metadata": {},
   "source": [
    "35 Competitive Python Programming Questions\n",
    "\n",
    "Source:\n",
    "\n",
    "[https://ninza7.medium.com/35-small-python-programs-for-beginners-to-practice-3128155fb815](https://ninza7.medium.com/35-small-python-programs-for-beginners-to-practice-3128155fb815)"
   ]
  },
  {
   "cell_type": "markdown",
   "metadata": {},
   "source": [
    "## 01 Find maximum length string with `for` loop\n",
    "\n"
   ]
  }
 ],
 "metadata": {
  "language_info": {
   "name": "python"
  },
  "orig_nbformat": 4
 },
 "nbformat": 4,
 "nbformat_minor": 2
}
