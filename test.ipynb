{
 "metadata": {
  "language_info": {
   "codemirror_mode": {
    "name": "ipython",
    "version": 3
   },
   "file_extension": ".py",
   "mimetype": "text/x-python",
   "name": "python",
   "nbconvert_exporter": "python",
   "pygments_lexer": "ipython3",
   "version": "3.8.6"
  },
  "orig_nbformat": 2,
  "kernelspec": {
   "name": "pythonjvsc74a57bd0de477816c04f9e31ad102e6524a8dfe77b8829d58755326efdd4cdb44a784028",
   "display_name": "Python 3.8.6  ('.venv': poetry)"
  },
  "metadata": {
   "interpreter": {
    "hash": "de477816c04f9e31ad102e6524a8dfe77b8829d58755326efdd4cdb44a784028"
   }
  }
 },
 "nbformat": 4,
 "nbformat_minor": 2,
 "cells": [
  {
   "cell_type": "code",
   "execution_count": 2,
   "metadata": {},
   "outputs": [
    {
     "output_type": "stream",
     "name": "stdout",
     "text": [
      "test\n"
     ]
    }
   ],
   "source": [
    "# Does the notebook authoring in vscode work with the vim bindings?\n",
    "print('test')"
   ]
  },
  {
   "cell_type": "code",
   "execution_count": 1,
   "metadata": {},
   "outputs": [
    {
     "output_type": "stream",
     "name": "stdout",
     "text": [
      "another test\n"
     ]
    }
   ],
   "source": [
    "print('another test')"
   ]
  }
 ]
}